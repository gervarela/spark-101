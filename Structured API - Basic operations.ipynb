{
 "cells": [
  {
   "cell_type": "markdown",
   "metadata": {},
   "source": [
    "# Spark on Tour\n",
    "## Introducción a la API Estructurada"
   ]
  },
  {
   "cell_type": "markdown",
   "metadata": {},
   "source": [
    "Importamos librerías e inicializamos la sesión Spark."
   ]
  },
  {
   "cell_type": "code",
   "execution_count": 1,
   "metadata": {},
   "outputs": [],
   "source": [
    "import findspark\n",
    "findspark.init()\n",
    "\n",
    "import pyspark\n",
    "from pyspark.sql.types import *\n",
    "from pyspark.sql import SparkSession\n",
    "from pyspark.sql.functions import *\n",
    "\n",
    "from IPython.display import clear_output\n",
    "import plotly.express as px\n",
    "\n",
    "#setup spark session\n",
    "sparkSession = (SparkSession.builder\n",
    "                .appName(\"Introducción API estructurada\")\n",
    "                .master(\"local[*]\")\n",
    "                .config(\"spark.scheduler.mode\", \"FAIR\")\n",
    "                .getOrCreate())\n",
    "sparkSession.sparkContext.setLogLevel(\"ERROR\")"
   ]
  },
  {
   "cell_type": "markdown",
   "metadata": {},
   "source": [
    "## Creación de Dataframes"
   ]
  },
  {
   "cell_type": "code",
   "execution_count": 2,
   "metadata": {},
   "outputs": [
    {
     "name": "stdout",
     "output_type": "stream",
     "text": [
      "+-------+--------------------+--------------------+\n",
      "|movieId|               title|              genres|\n",
      "+-------+--------------------+--------------------+\n",
      "|      1|    Toy Story (1995)|Adventure|Animati...|\n",
      "|      2|      Jumanji (1995)|Adventure|Childre...|\n",
      "|      3|Grumpier Old Men ...|      Comedy|Romance|\n",
      "|      4|Waiting to Exhale...|Comedy|Drama|Romance|\n",
      "|      5|Father of the Bri...|              Comedy|\n",
      "|      6|         Heat (1995)|Action|Crime|Thri...|\n",
      "|      7|      Sabrina (1995)|      Comedy|Romance|\n",
      "|      8| Tom and Huck (1995)|  Adventure|Children|\n",
      "|      9| Sudden Death (1995)|              Action|\n",
      "|     10|    GoldenEye (1995)|Action|Adventure|...|\n",
      "+-------+--------------------+--------------------+\n",
      "only showing top 10 rows\n",
      "\n"
     ]
    }
   ],
   "source": [
    "movies = sparkSession.read.csv(\"/tmp/movielens/movies.csv\", header=True)\n",
    "movies.show(10)"
   ]
  },
  {
   "cell_type": "markdown",
   "metadata": {},
   "source": [
    "## Proyecciones: manipulando las columnas"
   ]
  },
  {
   "cell_type": "markdown",
   "metadata": {},
   "source": [
    "### Seleccionando columnas"
   ]
  },
  {
   "cell_type": "code",
   "execution_count": 3,
   "metadata": {},
   "outputs": [
    {
     "name": "stdout",
     "output_type": "stream",
     "text": [
      "+-------+--------------------+\n",
      "|movieId|               title|\n",
      "+-------+--------------------+\n",
      "|      1|    Toy Story (1995)|\n",
      "|      2|      Jumanji (1995)|\n",
      "|      3|Grumpier Old Men ...|\n",
      "|      4|Waiting to Exhale...|\n",
      "|      5|Father of the Bri...|\n",
      "|      6|         Heat (1995)|\n",
      "|      7|      Sabrina (1995)|\n",
      "|      8| Tom and Huck (1995)|\n",
      "|      9| Sudden Death (1995)|\n",
      "|     10|    GoldenEye (1995)|\n",
      "+-------+--------------------+\n",
      "only showing top 10 rows\n",
      "\n"
     ]
    }
   ],
   "source": [
    "onlyTitle = movies.select(\"movieId\", \"title\")\n",
    "onlyTitle.show(10)"
   ]
  },
  {
   "cell_type": "markdown",
   "metadata": {},
   "source": [
    "### Renombrando columnas"
   ]
  },
  {
   "cell_type": "code",
   "execution_count": 4,
   "metadata": {},
   "outputs": [
    {
     "name": "stdout",
     "output_type": "stream",
     "text": [
      "+---+--------------------+\n",
      "| id|               title|\n",
      "+---+--------------------+\n",
      "|  1|    Toy Story (1995)|\n",
      "|  2|      Jumanji (1995)|\n",
      "|  3|Grumpier Old Men ...|\n",
      "|  4|Waiting to Exhale...|\n",
      "|  5|Father of the Bri...|\n",
      "|  6|         Heat (1995)|\n",
      "|  7|      Sabrina (1995)|\n",
      "|  8| Tom and Huck (1995)|\n",
      "|  9| Sudden Death (1995)|\n",
      "| 10|    GoldenEye (1995)|\n",
      "+---+--------------------+\n",
      "only showing top 10 rows\n",
      "\n"
     ]
    }
   ],
   "source": [
    "renamedColumns = movies.select(col(\"movieId\").alias(\"id\"), \"title\")\n",
    "renamedColumns.show(10)"
   ]
  },
  {
   "cell_type": "code",
   "execution_count": 5,
   "metadata": {},
   "outputs": [
    {
     "name": "stdout",
     "output_type": "stream",
     "text": [
      "+---+--------------------+--------------------+\n",
      "| id|               title|              genres|\n",
      "+---+--------------------+--------------------+\n",
      "|  1|    Toy Story (1995)|Adventure|Animati...|\n",
      "|  2|      Jumanji (1995)|Adventure|Childre...|\n",
      "|  3|Grumpier Old Men ...|      Comedy|Romance|\n",
      "|  4|Waiting to Exhale...|Comedy|Drama|Romance|\n",
      "|  5|Father of the Bri...|              Comedy|\n",
      "|  6|         Heat (1995)|Action|Crime|Thri...|\n",
      "|  7|      Sabrina (1995)|      Comedy|Romance|\n",
      "|  8| Tom and Huck (1995)|  Adventure|Children|\n",
      "|  9| Sudden Death (1995)|              Action|\n",
      "| 10|    GoldenEye (1995)|Action|Adventure|...|\n",
      "+---+--------------------+--------------------+\n",
      "only showing top 10 rows\n",
      "\n"
     ]
    }
   ],
   "source": [
    "renamedColumns = movies.withColumnRenamed(\"movieId\", \"id\")\n",
    "renamedColumns.show(10)"
   ]
  },
  {
   "cell_type": "markdown",
   "metadata": {},
   "source": [
    "### Añadiendo/transformando columnas"
   ]
  },
  {
   "cell_type": "markdown",
   "metadata": {},
   "source": [
    "Podemos añadir nuevas columnas a partir de las ya existentes utilizando funciones predefinidas de Spark"
   ]
  },
  {
   "cell_type": "code",
   "execution_count": 6,
   "metadata": {},
   "outputs": [
    {
     "name": "stdout",
     "output_type": "stream",
     "text": [
      "+-------+--------------------+--------------------+----------------------+\n",
      "|movieId|               title|              genres|startswith(title, Toy)|\n",
      "+-------+--------------------+--------------------+----------------------+\n",
      "|      1|    Toy Story (1995)|Adventure|Animati...|                  true|\n",
      "|      2|      Jumanji (1995)|Adventure|Childre...|                 false|\n",
      "|      3|Grumpier Old Men ...|      Comedy|Romance|                 false|\n",
      "|      4|Waiting to Exhale...|Comedy|Drama|Romance|                 false|\n",
      "|      5|Father of the Bri...|              Comedy|                 false|\n",
      "|      6|         Heat (1995)|Action|Crime|Thri...|                 false|\n",
      "|      7|      Sabrina (1995)|      Comedy|Romance|                 false|\n",
      "|      8| Tom and Huck (1995)|  Adventure|Children|                 false|\n",
      "|      9| Sudden Death (1995)|              Action|                 false|\n",
      "|     10|    GoldenEye (1995)|Action|Adventure|...|                 false|\n",
      "+-------+--------------------+--------------------+----------------------+\n",
      "only showing top 10 rows\n",
      "\n"
     ]
    }
   ],
   "source": [
    "newColumns = movies.select(\"movieId\", \"title\", \"genres\", col(\"title\").startswith(\"Toy\"))\n",
    "newColumns.show(10)"
   ]
  },
  {
   "cell_type": "markdown",
   "metadata": {},
   "source": [
    "O podemos definir nuestras propias funciones de transformación"
   ]
  },
  {
   "cell_type": "code",
   "execution_count": 7,
   "metadata": {},
   "outputs": [],
   "source": [
    "def extractYear(movieTitle):\n",
    "    import re\n",
    "    result = re.findall(\"\\((.*?)\\)\", movieTitle)\n",
    "    if (len(result) == 1) and (result[0].find('–') == -1):\n",
    "        return int(result[0])\n",
    "    else:\n",
    "        return int(0)\n",
    "extractYear_udf = udf(extractYear, IntegerType())"
   ]
  },
  {
   "cell_type": "code",
   "execution_count": 8,
   "metadata": {},
   "outputs": [
    {
     "name": "stdout",
     "output_type": "stream",
     "text": [
      "+-------+--------------------+--------------------+----+\n",
      "|movieId|               title|              genres|year|\n",
      "+-------+--------------------+--------------------+----+\n",
      "|      1|    Toy Story (1995)|Adventure|Animati...|1995|\n",
      "|      2|      Jumanji (1995)|Adventure|Childre...|1995|\n",
      "|      3|Grumpier Old Men ...|      Comedy|Romance|1995|\n",
      "|      4|Waiting to Exhale...|Comedy|Drama|Romance|1995|\n",
      "|      5|Father of the Bri...|              Comedy|1995|\n",
      "|      6|         Heat (1995)|Action|Crime|Thri...|1995|\n",
      "|      7|      Sabrina (1995)|      Comedy|Romance|1995|\n",
      "|      8| Tom and Huck (1995)|  Adventure|Children|1995|\n",
      "|      9| Sudden Death (1995)|              Action|1995|\n",
      "|     10|    GoldenEye (1995)|Action|Adventure|...|1995|\n",
      "+-------+--------------------+--------------------+----+\n",
      "only showing top 10 rows\n",
      "\n",
      "root\n",
      " |-- movieId: string (nullable = true)\n",
      " |-- title: string (nullable = true)\n",
      " |-- genres: string (nullable = true)\n",
      " |-- year: integer (nullable = true)\n",
      "\n"
     ]
    }
   ],
   "source": [
    "newColumns = movies.select(\"movieId\", \"title\", \"genres\", extractYear_udf(col(\"title\")).alias(\"year\"))\n",
    "newColumns.show(10)\n",
    "newColumns.printSchema()"
   ]
  },
  {
   "cell_type": "markdown",
   "metadata": {},
   "source": [
    "## Filtrado: seleccionado filas"
   ]
  },
  {
   "cell_type": "code",
   "execution_count": 9,
   "metadata": {},
   "outputs": [
    {
     "name": "stdout",
     "output_type": "stream",
     "text": [
      "+-------+--------------------+--------------------+----+\n",
      "|movieId|               title|              genres|year|\n",
      "+-------+--------------------+--------------------+----+\n",
      "|  82152|      Beastly (2011)|Drama|Fantasy|Rom...|2011|\n",
      "|  83349|Green Hornet, The...|Action|Comedy|Cri...|2011|\n",
      "|  83480|Season of the Wit...|Adventure|Drama|F...|2011|\n",
      "|  83613|Cowboys & Aliens ...|Action|Sci-Fi|Thr...|2011|\n",
      "|  83910| Dilemma, The (2011)|        Comedy|Drama|2011|\n",
      "|  84152|    Limitless (2011)|     Sci-Fi|Thriller|2011|\n",
      "|  84273|Zeitgeist: Moving...|         Documentary|2011|\n",
      "|  84374|No Strings Attach...|      Comedy|Romance|2011|\n",
      "|  84392|Lincoln Lawyer, T...|Crime|Drama|Thriller|2011|\n",
      "|  84414|All-Star Superman...|Action|Adventure|...|2011|\n",
      "+-------+--------------------+--------------------+----+\n",
      "only showing top 10 rows\n",
      "\n"
     ]
    }
   ],
   "source": [
    "newColumns.filter(\"year > '2010'\").show(10)"
   ]
  },
  {
   "cell_type": "markdown",
   "metadata": {},
   "source": [
    "## Agregaciones"
   ]
  },
  {
   "cell_type": "markdown",
   "metadata": {},
   "source": [
    "Nos permiten calcular resultados a partir de la agregación de múltiples filas"
   ]
  },
  {
   "cell_type": "code",
   "execution_count": 10,
   "metadata": {},
   "outputs": [
    {
     "name": "stdout",
     "output_type": "stream",
     "text": [
      "+--------------------+\n",
      "|count(DISTINCT year)|\n",
      "+--------------------+\n",
      "|                 105|\n",
      "+--------------------+\n",
      "\n"
     ]
    }
   ],
   "source": [
    "newColumns.select(countDistinct(\"year\")).show()"
   ]
  },
  {
   "cell_type": "code",
   "execution_count": 11,
   "metadata": {},
   "outputs": [
    {
     "name": "stdout",
     "output_type": "stream",
     "text": [
      "+--------------------+\n",
      "|count(DISTINCT year)|\n",
      "+--------------------+\n",
      "|                   8|\n",
      "+--------------------+\n",
      "\n"
     ]
    }
   ],
   "source": [
    "from2010 = newColumns.filter(\"year > '2010'\")\n",
    "from2010.select(countDistinct(\"year\")).show()"
   ]
  },
  {
   "cell_type": "code",
   "execution_count": 12,
   "metadata": {},
   "outputs": [
    {
     "name": "stdout",
     "output_type": "stream",
     "text": [
      "+---------+---------+------------------+\n",
      "|min(year)|max(year)|         avg(year)|\n",
      "+---------+---------+------------------+\n",
      "|     2011|     2018|2013.9655596555965|\n",
      "+---------+---------+------------------+\n",
      "\n"
     ]
    }
   ],
   "source": [
    "from2010.select(min(\"year\"), max(\"year\"), avg(\"year\")).show()"
   ]
  },
  {
   "cell_type": "markdown",
   "metadata": {},
   "source": [
    "## Agrupaciones y agregaciones\n",
    "Nos permiten agrupar filas y, opcionalmente, calcular resultados agregados por grupos"
   ]
  },
  {
   "cell_type": "code",
   "execution_count": 13,
   "metadata": {},
   "outputs": [
    {
     "name": "stdout",
     "output_type": "stream",
     "text": [
      "+----+-----+\n",
      "|year|count|\n",
      "+----+-----+\n",
      "|2018|   41|\n",
      "|2017|  147|\n",
      "|2016|  218|\n",
      "|2015|  274|\n",
      "|2014|  271|\n",
      "|2013|  219|\n",
      "|2012|  216|\n",
      "|2011|  240|\n",
      "|2010|  216|\n",
      "|2009|  248|\n",
      "|2008|  243|\n",
      "|2007|  259|\n",
      "|2006|  264|\n",
      "|2005|  246|\n",
      "|2004|  240|\n",
      "|2003|  238|\n",
      "|2002|  268|\n",
      "|2001|  234|\n",
      "|2000|  249|\n",
      "|1999|  235|\n",
      "+----+-----+\n",
      "only showing top 20 rows\n",
      "\n"
     ]
    }
   ],
   "source": [
    "newColumns\\\n",
    "    .select(\"year\") \\\n",
    "    .groupBy(\"year\") \\\n",
    "    .count(). \\\n",
    "    sort(desc(\"year\")) \\\n",
    "    .show()"
   ]
  },
  {
   "cell_type": "markdown",
   "metadata": {},
   "source": [
    "## Joins\n",
    "Combinar dierentes datasets en un nuevo dataset"
   ]
  },
  {
   "cell_type": "code",
   "execution_count": 14,
   "metadata": {},
   "outputs": [
    {
     "name": "stdout",
     "output_type": "stream",
     "text": [
      "+-------+-------+------+\n",
      "|movieId| imdbId|tmdbId|\n",
      "+-------+-------+------+\n",
      "|      1|0114709|   862|\n",
      "|      2|0113497|  8844|\n",
      "|      3|0113228| 15602|\n",
      "|      4|0114885| 31357|\n",
      "|      5|0113041| 11862|\n",
      "|      6|0113277|   949|\n",
      "|      7|0114319| 11860|\n",
      "|      8|0112302| 45325|\n",
      "|      9|0114576|  9091|\n",
      "|     10|0113189|   710|\n",
      "+-------+-------+------+\n",
      "only showing top 10 rows\n",
      "\n"
     ]
    }
   ],
   "source": [
    "links = sparkSession.read.csv(\"/tmp/movielens/links.csv\", header=True)\n",
    "links.show(10)"
   ]
  },
  {
   "cell_type": "code",
   "execution_count": 15,
   "metadata": {},
   "outputs": [
    {
     "name": "stdout",
     "output_type": "stream",
     "text": [
      "+-------+--------------------+--------------------+-------+------+\n",
      "|movieId|               title|              genres| imdbId|tmdbId|\n",
      "+-------+--------------------+--------------------+-------+------+\n",
      "|      1|    Toy Story (1995)|Adventure|Animati...|0114709|   862|\n",
      "|      2|      Jumanji (1995)|Adventure|Childre...|0113497|  8844|\n",
      "|      3|Grumpier Old Men ...|      Comedy|Romance|0113228| 15602|\n",
      "|      4|Waiting to Exhale...|Comedy|Drama|Romance|0114885| 31357|\n",
      "|      5|Father of the Bri...|              Comedy|0113041| 11862|\n",
      "|      6|         Heat (1995)|Action|Crime|Thri...|0113277|   949|\n",
      "|      7|      Sabrina (1995)|      Comedy|Romance|0114319| 11860|\n",
      "|      8| Tom and Huck (1995)|  Adventure|Children|0112302| 45325|\n",
      "|      9| Sudden Death (1995)|              Action|0114576|  9091|\n",
      "|     10|    GoldenEye (1995)|Action|Adventure|...|0113189|   710|\n",
      "+-------+--------------------+--------------------+-------+------+\n",
      "only showing top 10 rows\n",
      "\n"
     ]
    }
   ],
   "source": [
    "movies \\\n",
    "    .join(links, movies[\"movieId\"] == links[\"movieId\"]) \\\n",
    "    .drop(links[\"movieId\"]) \\\n",
    "    .show(10)"
   ]
  },
  {
   "cell_type": "code",
   "execution_count": null,
   "metadata": {},
   "outputs": [],
   "source": []
  }
 ],
 "metadata": {
  "kernelspec": {
   "display_name": "Python 3",
   "language": "python",
   "name": "python3"
  },
  "language_info": {
   "codemirror_mode": {
    "name": "ipython",
    "version": 3
   },
   "file_extension": ".py",
   "mimetype": "text/x-python",
   "name": "python",
   "nbconvert_exporter": "python",
   "pygments_lexer": "ipython3",
   "version": "3.6.9"
  }
 },
 "nbformat": 4,
 "nbformat_minor": 4
}
